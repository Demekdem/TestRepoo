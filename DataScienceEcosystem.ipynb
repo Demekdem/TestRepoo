{
 "cells": [
  {
   "cell_type": "markdown",
   "id": "26002b11-b382-443c-99e3-e5330adde731",
   "metadata": {},
   "source": [
    "# Data Science Tools and Ecosystem"
   ]
  },
  {
   "cell_type": "markdown",
   "id": "7ff9379e-6ba2-4c0a-a9bb-0191aff73d0d",
   "metadata": {},
   "source": [
    "In this notebook, Data Science Tools and Ecosystem are summarized."
   ]
  },
  {
   "cell_type": "markdown",
   "id": "0d5f6a1f-d048-437f-ac3d-573eff535977",
   "metadata": {},
   "source": [
    "Some of the commonly used libraries by Data Scientists include:\n",
    "\n",
    "1. NumPy\n",
    "2. Pandas\n",
    "3. Matplotlib\n",
    "4. Scikit-learn\n",
    "5. TensorFlow\n",
    "6. PyTorch\n"
   ]
  },
  {
   "cell_type": "markdown",
   "id": "506ec7bf-226c-496d-aee6-dd6b3d1dd3fc",
   "metadata": {},
   "source": [
    "| Data Science Tools |\n",
    "|--------------------|\n",
    "| Jupyter Notebook  |\n",
    "| RStudio          |\n",
    "| Apache Zeppelin  |"
   ]
  },
  {
   "cell_type": "markdown",
   "id": "767d36e6-da29-4c71-b19b-bfa695bc7ac5",
   "metadata": {},
   "source": [
    "### Below are a few examples of evaluating arithmetic expressions in Python."
   ]
  },
  {
   "cell_type": "code",
   "execution_count": 3,
   "id": "ecf03168-5a56-4921-993f-ecea95f50739",
   "metadata": {},
   "outputs": [
    {
     "data": {
      "text/plain": [
       "17"
      ]
     },
     "execution_count": 3,
     "metadata": {},
     "output_type": "execute_result"
    }
   ],
   "source": [
    "# This is a simple arithmetic expression to multiply then add integers\n",
    "(3 * 4) + 5\n"
   ]
  },
  {
   "cell_type": "code",
   "execution_count": 4,
   "id": "c53f1de1-b5e2-4c7f-98de-ae4397dae995",
   "metadata": {},
   "outputs": [
    {
     "data": {
      "text/plain": [
       "3.3333333333333335"
      ]
     },
     "execution_count": 4,
     "metadata": {},
     "output_type": "execute_result"
    }
   ],
   "source": [
    "# This will convert 200 minutes to hours by dividing by 60\n",
    "200 / 60"
   ]
  },
  {
   "cell_type": "markdown",
   "id": "bbef1a68-8f45-46a2-9070-1c9fd3984b10",
   "metadata": {},
   "source": [
    "**Objectives:**\n",
    "\n",
    "- List popular languages for Data Science.\n",
    "- List commonly used libraries in Data Science.\n",
    "- Create a table of Data Science tools.\n",
    "- Evaluate arithmetic expressions in Python.\n",
    "- Convert minutes to hours in Python."
   ]
  },
  {
   "cell_type": "markdown",
   "id": "9452f56e-281f-4bed-a7fa-c272b13b03a4",
   "metadata": {},
   "source": [
    "## Author\n",
    "\n",
    "Demetriusz"
   ]
  }
 ],
 "metadata": {
  "kernelspec": {
   "display_name": "Python 3 (ipykernel)",
   "language": "python",
   "name": "python3"
  },
  "language_info": {
   "codemirror_mode": {
    "name": "ipython",
    "version": 3
   },
   "file_extension": ".py",
   "mimetype": "text/x-python",
   "name": "python",
   "nbconvert_exporter": "python",
   "pygments_lexer": "ipython3",
   "version": "3.12.3"
  }
 },
 "nbformat": 4,
 "nbformat_minor": 5
}
